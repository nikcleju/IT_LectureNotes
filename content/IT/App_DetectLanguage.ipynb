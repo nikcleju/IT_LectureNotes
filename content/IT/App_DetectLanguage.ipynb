{
 "cells": [
  {
   "cell_type": "markdown",
   "metadata": {},
   "source": [
    "# Detect Language with Memory Sources\n",
    "\n",
    "## Introduction\n",
    "\n",
    "The goal is to recognize the language of a given text, \n",
    "from a known list of languages (Romanian and English).\n",
    "\n",
    "We will build an information source model for each language, considering it as \n",
    "a source with memory of order $m=1$. This means we will \n",
    "estimate the probability of every letter given the previous letter.\n",
    "This is very characteristic for each language, and it provides a simple way to\n",
    "distinguish between them.\n"
   ]
  },
  {
   "cell_type": "markdown",
   "metadata": {},
   "source": [
    "## Walkthrough"
   ]
  },
  {
   "cell_type": "markdown",
   "metadata": {},
   "source": [
    "Given a large text file, we would like to build the transition matrix\n",
    "which contains the probability of each letter given the previous letter.\n",
    "\n",
    "We consider only the letters from the (English) alphabet, and we ignore the case of the letters.\n",
    "This means there are 26 letters in all (from a to z). \n",
    "\n",
    "Since memory is of order 1, the state is **the previous letter**.\n",
    "This means we have $N=26$ states, and we need to estimate a transition matrix of size $26 \\times 26$.\n",
    "\n",
    "We estimate the transition matrix by counting every pair of consecutive letters, \n",
    "then normalizing the counts to obtain probabilities."
   ]
  },
  {
   "cell_type": "markdown",
   "metadata": {},
   "source": [
    "### Count pairs of letters"
   ]
  },
  {
   "cell_type": "code",
   "execution_count": 22,
   "metadata": {},
   "outputs": [],
   "source": [
    "import numpy as np\n",
    "\n",
    "filename = \"data/texten.txt\"\n",
    "\n",
    "# Read all text from then file\n",
    "with open(filename, 'r') as file:\n",
    "    text = file.read()\n",
    "\n",
    "# Convert all text to lowercase:\n",
    "text = text.lower()\n",
    "\n",
    "# Prepare 26x26 matrix full of **ones**\n",
    "# Why ones and not zeros?  Discuss later\n",
    "T = np.ones((26, 26))\n",
    "\n",
    "# Go through all the text\n",
    "for i in range(len(text) - 1):\n",
    "\n",
    "    # Previous character and current character\n",
    "    prev = text[i]\n",
    "    curr = text[i + 1]\n",
    "\n",
    "    # We only consider letters\n",
    "    if prev.isalpha() and curr.isalpha():\n",
    "\n",
    "        # Convert characters to numbers = offset from 'a'\n",
    "        row = ord(prev) - ord('a')\n",
    "        col = ord(curr) - ord('a')\n",
    "\n",
    "        # Increment counter at position (row, col)\n",
    "        T[row, col] += 1"
   ]
  },
  {
   "cell_type": "markdown",
   "metadata": {},
   "source": [
    "Let's look at the matrix we have now. The display will show the values row by row."
   ]
  },
  {
   "cell_type": "code",
   "execution_count": 5,
   "metadata": {},
   "outputs": [
    {
     "data": {
      "text/plain": [
       "array([[  0.,  43.,  22.,  25.,   2.,   5.,  46.,   0.,  30.,   0.,  13.,\n",
       "         53.,  20., 190.,   0.,  13.,   0.,  78.,  63., 104.,  14.,  41.,\n",
       "          8.,   0.,  24.,   0.],\n",
       "       [ 39.,   2.,   0.,   1.,  46.,   0.,   0.,   1.,   8.,   0.,   0.,\n",
       "         14.,   0.,   0.,  16.,   0.,   0.,  38.,   2.,   0.,  32.,   0.,\n",
       "          0.,   0.,  15.,   0.],\n",
       "       [ 37.,   0.,   2.,   0.,  52.,   0.,   0.,  46.,  20.,   0.,   9.,\n",
       "          7.,   0.,   0.,  45.,   0.,   0.,   3.,   0.,  19.,   8.,   0.,\n",
       "          0.,   0.,   6.,   0.],\n",
       "       [ 18.,   0.,   0.,   1.,  71.,   0.,   4.,   1.,  23.,   0.,   0.,\n",
       "          3.,   0.,   2.,  36.,   0.,   0.,   8.,  16.,   0.,  16.,   1.,\n",
       "          1.,   0.,   6.,   0.],\n",
       "       [ 52.,   2.,  18.,  46.,  35.,   8.,   4.,   2.,  13.,   1.,   1.,\n",
       "         60.,  25., 108.,   3.,   4.,   3., 215.,  86.,  36.,   6.,  28.,\n",
       "          7.,   9.,   9.,   0.],\n",
       "       [ 17.,   0.,   0.,   0.,  19.,  14.,   0.,   0.,  21.,   0.,   0.,\n",
       "          4.,   0.,   0.,  51.,   0.,   0.,   9.,   0.,   2.,   4.,   0.,\n",
       "          0.,   0.,   1.,   0.],\n",
       "       [  9.,   0.,   0.,   0.,  34.,   0.,   0.,  37.,   7.,   0.,   0.,\n",
       "          1.,   1.,  11.,  76.,   0.,   0.,  13.,   6.,   0.,   7.,   0.,\n",
       "          0.,   0.,   0.,   0.],\n",
       "       [119.,   0.,   0.,   0., 250.,   0.,   0.,   0., 105.,   0.,   0.,\n",
       "          0.,   1.,   0.,  75.,   0.,   0.,   6.,   0.,  32.,   4.,   0.,\n",
       "          0.,   0.,   5.,   0.],\n",
       "       [ 47.,   9.,  47.,  15.,  35.,  26.,  60.,   0.,   1.,   0.,   4.,\n",
       "         28.,  39., 128.,  67.,   6.,   1.,  37., 113.,  86.,   0.,  12.,\n",
       "          0.,   0.,   0.,   2.],\n",
       "       [  1.,   0.,   0.,   0.,   2.,   0.,   0.,   0.,   0.,   0.,   0.,\n",
       "          0.,   0.,   0.,   2.,   0.,   0.,   0.,   0.,   0.,   5.,   0.,\n",
       "          0.,   0.,   0.,   0.],\n",
       "       [  0.,   0.,   0.,   0.,  28.,   0.,   0.,   0.,   9.,   0.,   0.,\n",
       "          0.,   0.,  18.,   0.,   0.,   0.,   0.,   2.,   0.,   0.,   0.,\n",
       "          0.,   0.,   0.,   0.],\n",
       "       [ 23.,   0.,   1.,  24.,  43.,   7.,   1.,   0.,  36.,   0.,   0.,\n",
       "         96.,   2.,   0.,  56.,   1.,   0.,   3.,   6.,   3.,   3.,   2.,\n",
       "          0.,   0.,  12.,   0.],\n",
       "       [ 54.,   4.,   0.,   0.,  73.,   0.,   0.,   0.,  10.,   0.,   0.,\n",
       "          0.,   7.,   2.,  32.,   6.,   0.,   0.,  10.,   0.,  12.,   0.,\n",
       "          0.,   0.,  41.,   0.],\n",
       "       [ 23.,   2.,  21., 123.,  58.,   2.,  47.,   3.,  29.,   0.,   8.,\n",
       "          4.,   0.,   9.,  83.,   0.,   0.,   0.,  36.,  78.,   1.,   0.,\n",
       "          0.,   0.,   6.,   0.],\n",
       "       [  4.,   8.,   3.,  46.,   3.,  77.,   1.,   1.,   4.,   1.,   6.,\n",
       "         21.,  42., 101.,  33.,  10.,   0., 114.,  23.,  74., 182.,  15.,\n",
       "         52.,   0.,   3.,   1.],\n",
       "       [ 10.,   0.,   0.,   0.,  21.,   0.,   0.,   1.,  10.,   0.,   0.,\n",
       "         13.,   0.,   0.,  20.,  11.,   0.,  39.,   2.,   3.,   8.,   0.,\n",
       "          0.,   0.,   3.,   0.],\n",
       "       [  0.,   0.,   0.,   0.,   0.,   0.,   0.,   0.,   0.,   0.,   0.,\n",
       "          0.,   0.,   0.,   0.,   0.,   0.,   0.,   0.,   0.,   7.,   0.,\n",
       "          0.,   0.,   0.,   0.],\n",
       "       [ 71.,   2.,  13.,  11., 120.,   1.,   4.,   1.,  68.,   0.,   5.,\n",
       "          7.,   8.,   3.,  72.,   1.,   0.,   9.,  48.,  23.,  13.,  13.,\n",
       "          0.,   0.,  12.,   0.],\n",
       "       [ 15.,   1.,   8.,   5., 103.,   2.,   0.,  31.,  53.,   0.,   1.,\n",
       "          3.,   3.,   1.,  34.,  15.,   1.,   0.,  35.,  89.,  24.,   0.,\n",
       "          5.,   0.,   0.,   0.],\n",
       "       [ 20.,   0.,   3.,   0.,  85.,   0.,   1., 313.,  85.,   0.,   0.,\n",
       "          9.,   0.,   0.,  73.,   0.,   0.,  29.,  18.,  16.,   8.,   0.,\n",
       "          4.,   0.,  12.,   0.],\n",
       "       [  4.,   2.,  15.,   8.,   8.,   3.,  18.,   0.,   7.,   0.,  10.,\n",
       "         29.,   4.,  26.,   0.,  13.,   0.,  54.,  46.,  51.,   0.,   0.,\n",
       "          0.,   0.,   0.,   0.],\n",
       "       [  5.,   0.,   0.,   0.,  99.,   0.,   0.,   0.,  20.,   0.,   0.,\n",
       "          0.,   0.,   0.,   5.,   0.,   0.,   0.,   0.,   0.,   0.,   0.,\n",
       "          0.,   0.,   1.,   0.],\n",
       "       [ 14.,   0.,   0.,   0.,  33.,   1.,   0.,  54.,  57.,   0.,   0.,\n",
       "          0.,   0.,  10.,  21.,   0.,   0.,   4.,   6.,   0.,   0.,   0.,\n",
       "          0.,   0.,   0.,   0.],\n",
       "       [  1.,   0.,   0.,   0.,   2.,   0.,   0.,   0.,   3.,   0.,   0.,\n",
       "          0.,   0.,   0.,   0.,   0.,   0.,   0.,   0.,   3.,   0.,   0.,\n",
       "          0.,   0.,   0.,   0.],\n",
       "       [  1.,   0.,   0.,   0.,  10.,   0.,   0.,   0.,   1.,   0.,   0.,\n",
       "          0.,   0.,   0.,  94.,   5.,   0.,   1.,   4.,   1.,   0.,   0.,\n",
       "          1.,   0.,   0.,   0.],\n",
       "       [  0.,   0.,   0.,   0.,   3.,   0.,   0.,   0.,   0.,   0.,   0.,\n",
       "          0.,   0.,   0.,   2.,   0.,   0.,   0.,   0.,   0.,   0.,   0.,\n",
       "          0.,   0.,   0.,   0.]])"
      ]
     },
     "execution_count": 5,
     "metadata": {},
     "output_type": "execute_result"
    }
   ],
   "source": [
    "T"
   ]
  },
  {
   "cell_type": "markdown",
   "metadata": {},
   "source": [
    "Let's see the counts when the first letter is `a` (i.e. row 0 in the matrix):\n"
   ]
  },
  {
   "cell_type": "code",
   "execution_count": 6,
   "metadata": {},
   "outputs": [
    {
     "data": {
      "text/plain": [
       "array([  0.,  43.,  22.,  25.,   2.,   5.,  46.,   0.,  30.,   0.,  13.,\n",
       "        53.,  20., 190.,   0.,  13.,   0.,  78.,  63., 104.,  14.,  41.,\n",
       "         8.,   0.,  24.,   0.])"
      ]
     },
     "execution_count": 6,
     "metadata": {},
     "output_type": "execute_result"
    }
   ],
   "source": [
    "T[0,:]"
   ]
  },
  {
   "cell_type": "markdown",
   "metadata": {},
   "source": [
    "Let's see the counts where the second letter is `h` (i.e. column number (`h` - `a`) in the matrix):"
   ]
  },
  {
   "cell_type": "code",
   "execution_count": 7,
   "metadata": {},
   "outputs": [
    {
     "data": {
      "text/plain": [
       "array([  0.,   1.,  46.,   1.,   2.,   0.,  37.,   0.,   0.,   0.,   0.,\n",
       "         0.,   0.,   3.,   1.,   1.,   0.,   1.,  31., 313.,   0.,   0.,\n",
       "        54.,   0.,   0.,   0.])"
      ]
     },
     "execution_count": 7,
     "metadata": {},
     "output_type": "execute_result"
    }
   ],
   "source": [
    "T[:,ord('h') - ord('a')]"
   ]
  },
  {
   "cell_type": "markdown",
   "metadata": {},
   "source": [
    "Let's locate the pair of letters with the highest count."
   ]
  },
  {
   "cell_type": "code",
   "execution_count": 11,
   "metadata": {},
   "outputs": [
    {
     "data": {
      "text/plain": [
       "(19, 7)"
      ]
     },
     "execution_count": 11,
     "metadata": {},
     "output_type": "execute_result"
    }
   ],
   "source": [
    "maxpos = np.argmax(T)\n",
    "maxrow, maxcol = np.unravel_index(maxpos, T.shape)\n",
    "maxrow, maxcol"
   ]
  },
  {
   "cell_type": "markdown",
   "metadata": {},
   "source": [
    "This means the 20th row and 8th column in the matrix (Python starts numbering from 0), \n",
    "which correspond to the pair `t` (20th letter) and `h` (8th letter).\n",
    "\n",
    "The most frequent pair of letters is `th`."
   ]
  },
  {
   "cell_type": "markdown",
   "metadata": {},
   "source": [
    "### Normalize the counts\n",
    "\n",
    "We need to turn counts into probabilities. \n",
    "\n",
    "To do this, we divide each row in the matrix **by the sum of that row**, so that the row sums to 1."
   ]
  },
  {
   "cell_type": "code",
   "execution_count": 14,
   "metadata": {},
   "outputs": [],
   "source": [
    "T = np.array([row  / sum(row) for row in T])"
   ]
  },
  {
   "cell_type": "markdown",
   "metadata": {},
   "source": [
    "Let's look at the first row and check that it's sum is 1:"
   ]
  },
  {
   "cell_type": "code",
   "execution_count": 17,
   "metadata": {},
   "outputs": [
    {
     "name": "stdout",
     "output_type": "stream",
     "text": [
      "[0.         0.05415617 0.02770781 0.03148615 0.00251889 0.00629723\n",
      " 0.05793451 0.         0.03778338 0.         0.0163728  0.06675063\n",
      " 0.02518892 0.23929471 0.         0.0163728  0.         0.09823678\n",
      " 0.07934509 0.13098237 0.01763224 0.05163728 0.01007557 0.\n",
      " 0.0302267  0.        ]\n",
      "Sum of row 0 is 1.0\n"
     ]
    }
   ],
   "source": [
    "print(T[0,:])\n",
    "print(f\"Sum of row 0 is {sum(T[0,:])}\")"
   ]
  },
  {
   "cell_type": "markdown",
   "metadata": {},
   "source": [
    "### Compute the probability of a sequence given the model\n",
    "\n",
    "In order to compute the probability of a sequence of letters, \n",
    "we multiply the transition probabilities for each pair of consecutive letters.\n",
    "We shall ignore the probability of the first letter (which doesn't have a previous letter), for simplicity.\n",
    "\n",
    "For example, for the sequence `hello\", we need to multiply the following probabilities:\n",
    "\n",
    "$$\n",
    "\\begin{align*}\n",
    "P &= P_{he} \\cdot P_{el} \\cdot P_{ll} \\cdot P_{lo} \\\\\n",
    "&= P(h|e) \\cdot P(e|l) \\cdot P(l|l) \\cdot P(l|o) \\\\\n",
    "\\end{align*}\n",
    "$$\n",
    "\n",
    "Because the probabilities are small, the result will quickly become too small\n",
    "to be represented by a floating point number.\n",
    "To avoid this, we use log-probabilities, and we add them instead of multiplying them:\n",
    "$$\n",
    "\\begin{align*}\n",
    "\\log(P_{he}) + \\log(P_{el}) + \\log(P_{ll}) + \\log(P_{lo}) \\\\\n",
    "\\end{align*}\n",
    "$$\n",
    "This works because all we want is to compare the result with one matrix to the result with another matrix,\n",
    "and the logarithm is a monotonically increasing function, so we can compare the log-probabilities directly\n",
    "instead of the probabilities themselves."
   ]
  },
  {
   "cell_type": "code",
   "execution_count": 18,
   "metadata": {},
   "outputs": [
    {
     "data": {
      "text/plain": [
       "-6.377369106514646"
      ]
     },
     "execution_count": 18,
     "metadata": {},
     "output_type": "execute_result"
    }
   ],
   "source": [
    "text = \"hello\"\n",
    "logprob = 0\n",
    "for i in range(len(text) - 1):\n",
    "    prev = text[i]\n",
    "    curr = text[i + 1]\n",
    "    if prev.isalpha() and curr.isalpha():\n",
    "        row = ord(prev) - ord('a')\n",
    "        col = ord(curr) - ord('a')\n",
    "        logprob = logprob + np.log(T[row, col])\n",
    "logprob"
   ]
  },
  {
   "cell_type": "markdown",
   "metadata": {},
   "source": [
    "## Experiments"
   ]
  },
  {
   "cell_type": "markdown",
   "metadata": {},
   "source": [
    "\n",
    "We will encapsulate the code in some functions, so that we can reuse it conveniently"
   ]
  },
  {
   "cell_type": "code",
   "execution_count": 25,
   "metadata": {},
   "outputs": [],
   "source": [
    "def compute_transition_matrix(filename):\n",
    "    with open(filename, 'r') as file:\n",
    "        text = file.read()\n",
    "    text = text.lower()\n",
    "    T = np.ones((26, 26))                   ### 1's not 0's\n",
    "    for i in range(len(text) - 1):\n",
    "        prev = text[i]\n",
    "        curr = text[i + 1]\n",
    "        if prev.isalpha() and curr.isalpha():\n",
    "            row = ord(prev) - ord('a')\n",
    "            col = ord(curr) - ord('a')\n",
    "            T[row, col] += 1\n",
    "        T = np.array([row  / sum(row) for row in T])\n",
    "    return T\n",
    "\n",
    "def compute_logprob(text, T):\n",
    "    text = text.lower()\n",
    "    logprob = 0\n",
    "    for i in range(len(text) - 1):\n",
    "        prev = text[i]\n",
    "        curr = text[i + 1]\n",
    "        if prev.isalpha() and curr.isalpha():\n",
    "            row = ord(prev) - ord('a')\n",
    "            col = ord(curr) - ord('a')\n",
    "            logprob += np.log(T[row, col])\n",
    "    return logprob\n",
    "\n",
    "def get_language(text, T_en, T_ro):\n",
    "    logprob_en = compute_logprob(text, T_en)\n",
    "    logprob_ro = compute_logprob(text, T_ro)\n",
    "    return \"English\" if logprob_en > logprob_ro else \"Romanian\"\n"
   ]
  },
  {
   "cell_type": "markdown",
   "metadata": {},
   "source": [
    "\n",
    "Let's compute the transition matrix for English and Romanian."
   ]
  },
  {
   "cell_type": "code",
   "execution_count": 34,
   "metadata": {},
   "outputs": [],
   "source": [
    "Ten = compute_transition_matrix(\"data/texten.txt\")\n",
    "Tro = compute_transition_matrix(\"data/textro.txt\")"
   ]
  },
  {
   "cell_type": "markdown",
   "metadata": {},
   "source": [
    "Now let's guess the language:"
   ]
  },
  {
   "cell_type": "code",
   "execution_count": 35,
   "metadata": {},
   "outputs": [
    {
     "data": {
      "text/plain": [
       "'Romanian'"
      ]
     },
     "execution_count": 35,
     "metadata": {},
     "output_type": "execute_result"
    }
   ],
   "source": [
    "sentence = \"Salut! Ce mai faci?\"\n",
    "get_language(sentence, Ten, Tro)"
   ]
  },
  {
   "cell_type": "code",
   "execution_count": 36,
   "metadata": {},
   "outputs": [
    {
     "data": {
      "text/plain": [
       "'English'"
      ]
     },
     "execution_count": 36,
     "metadata": {},
     "output_type": "execute_result"
    }
   ],
   "source": [
    "sentence = \"Scooby-Doo, where are you?\"\n",
    "get_language(sentence, Ten, Tro)"
   ]
  }
 ],
 "metadata": {
  "kernelspec": {
   "display_name": "Python 3",
   "language": "python",
   "name": "python3"
  },
  "language_info": {
   "codemirror_mode": {
    "name": "ipython",
    "version": 3
   },
   "file_extension": ".py",
   "mimetype": "text/x-python",
   "name": "python",
   "nbconvert_exporter": "python",
   "pygments_lexer": "ipython3",
   "version": "3.11.7"
  }
 },
 "nbformat": 4,
 "nbformat_minor": 2
}
