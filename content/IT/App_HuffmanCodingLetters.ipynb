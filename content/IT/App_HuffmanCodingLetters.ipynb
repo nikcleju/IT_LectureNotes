{
 "cells": [
  {
   "cell_type": "markdown",
   "metadata": {},
   "source": [
    "# Playing with Huffman coding\n",
    "\n",
    "## Introduction\n",
    "\n",
    "References:\n",
    "\n",
    "- [https://pypi.org/project/dahuffman/](https://pypi.org/project/dahuffman/)\n",
    "- [https://github.com/ybubnov/libhuffman](https://github.com/ybubnov/libhuffman)\n",
    "\n"
   ]
  },
  {
   "cell_type": "markdown",
   "metadata": {},
   "source": []
  },
  {
   "cell_type": "code",
   "execution_count": 4,
   "metadata": {},
   "outputs": [
    {
     "name": "stdout",
     "output_type": "stream",
     "text": [
      "Bits Code    Value Symbol\n",
      "   3 000         0 't'\n",
      "   4 0010        2 'f'\n",
      "   4 0011        3 'r'\n",
      "   5 01000       8 'ș'\n",
      "   5 01001       9 ','\n",
      "   5 01010      10 'c'\n",
      "   5 01011      11 'd'\n",
      "   4 0110        6 'i'\n",
      "   5 01110      14 'm'\n",
      "   5 01111      15 'n'\n",
      "   4 1000        8 'o'\n",
      "   5 10010      18 'p'\n",
      "   5 10011      19 's'\n",
      "   4 1010       10 'ă'\n",
      "   6 101100     44 'î'\n",
      "   7 1011010    90 _EOF\n",
      "   7 1011011    91 '-'\n",
      "   7 1011100    92 '.'\n",
      "   7 1011101    93 'D'\n",
      "   6 101111     47 'A'\n",
      "   3 110         6 ' '\n",
      "   7 1110000   112 'O'\n",
      "   7 1110001   113 'v'\n",
      "   6 111001     57 'u'\n",
      "   5 11101      29 'e'\n",
      "   4 1111       15 'a'\n"
     ]
    }
   ],
   "source": [
    "from dahuffman import HuffmanCodec\n",
    "\n",
    "codec = HuffmanCodec.from_data(\"A fost odată ca-n povești, A fost ca niciodată, Din rude mari împărătești, O prea frumoasă fată.\")\n",
    "codec.print_code_table()"
   ]
  },
  {
   "cell_type": "markdown",
   "metadata": {},
   "source": [
    "## From a large English text"
   ]
  },
  {
   "cell_type": "code",
   "execution_count": 38,
   "metadata": {},
   "outputs": [
    {
     "name": "stdout",
     "output_type": "stream",
     "text": [
      "Bits Code           Value Symbol\n",
      "   4 0000               0 '\\n'\n",
      "   6 000100             4 'w'\n",
      "   6 000101             5 'O'\n",
      "   8 00011000          24 'H'\n",
      "   8 00011001          25 'W'\n",
      "   9 000110100         52 '-'\n",
      "  12 000110101000     424 ')'\n",
      "  12 000110101001     425 'J'\n",
      "  11 00011010101      213 'j'\n",
      "  10 0001101011       107 'V'\n",
      "   8 00011011          27 'L'\n",
      "   6 000111             7 'c'\n",
      "   4 0010               2 't'\n",
      "   4 0011               3 'o'\n",
      "   6 010000            16 'f'\n",
      "   6 010001            17 '.'\n",
      "   7 0100100           36 'E'\n",
      "   7 0100101           37 'R'\n",
      "   6 010011            19 'I'\n",
      "   9 010100000        160 ';'\n",
      "   9 010100001        161 'F'\n",
      "   8 01010001          81 'C'\n",
      "   8 01010010          82 'G'\n",
      "   8 01010011          83 'N'\n",
      "   6 010101            21 'y'\n",
      "   7 0101100           44 'v'\n",
      "   8 01011010          90 'D'\n",
      "  11 01011011000      728 'q'\n",
      "  12 010110110010    1458 'z'\n",
      "  14 01011011001100  5836 _EOF\n",
      "  14 01011011001101  5837 '2'\n",
      "  13 0101101100111   2919 '0'\n",
      "  12 010110110100    1460 '\"'\n",
      "  12 010110110101    1461 '1'\n",
      "  14 01011011011000  5848 '3'\n",
      "  14 01011011011001  5849 '5'\n",
      "  14 01011011011010  5850 '6'\n",
      "  14 01011011011011  5851 'X'\n",
      "  12 010110110111    1463 '9'\n",
      "   9 010110111        183 '!'\n",
      "   7 0101110           46 'b'\n",
      "   7 0101111           47 'T'\n",
      "   6 011000            24 'm'\n",
      "   8 01100100         100 \"'\"\n",
      "   8 01100101         101 'S'\n",
      "   7 0110011           51 'p'\n",
      "   6 011010            26 ','\n",
      "   7 0110110           54 'A'\n",
      "  11 01101110000      880 'x'\n",
      "  13 0110111000100   3524 '<'\n",
      "  13 0110111000101   3525 '>'\n",
      "  12 011011100011    1763 ':'\n",
      "  10 0110111001       441 'P'\n",
      "   9 011011101        221 '?'\n",
      "   8 01101111         111 'k'\n",
      "   4 0111               7 'e'\n",
      "   2 10                 2 ' '\n",
      "   5 11000             24 'r'\n",
      "   5 11001             25 'i'\n",
      "   5 11010             26 'n'\n",
      "   5 11011             27 'h'\n",
      "   5 11100             28 's'\n",
      "   5 11101             29 'a'\n",
      "   6 111100            60 'l'\n",
      "   8 11110100         244 'B'\n",
      "  12 111101010000    3920 'K'\n",
      "  13 1111010100010   7842 'Z'\n",
      "  13 1111010100011   7843 '('\n",
      "  11 11110101001     1961 'U'\n",
      "  10 1111010101       981 'Y'\n",
      "   9 111101011        491 'M'\n",
      "   7 1111011          123 'g'\n",
      "   6 111110            62 'd'\n",
      "   6 111111            63 'u'\n"
     ]
    }
   ],
   "source": [
    "# Read a file at once\n",
    "with open(\"data/texten.txt\", \"r\") as f:     # English text\n",
    "    lines = f.readlines()\n",
    "contentEn = '\\n'.join(lines)\n",
    "codecEn = HuffmanCodec.from_data(contentEn)\n",
    "codecEn.print_code_table()\n"
   ]
  },
  {
   "cell_type": "code",
   "execution_count": 42,
   "metadata": {},
   "outputs": [
    {
     "name": "stdout",
     "output_type": "stream",
     "text": [
      "b'\\x181/\\x8eT\\xff\\xbe5\\xba'\n",
      "000110000011000100101111100011100101010011111111101111100011010110111010\n",
      "9\n",
      "72\n"
     ]
    }
   ],
   "source": [
    "enc = codecEn.encode(\"How do you do!\")\n",
    "print(enc)  # byte array\n",
    "\n",
    "# Convert to binary string for display\n",
    "enc_binarystr = ''.join([format(i, '08b') for i in enc])\n",
    "print(enc_binarystr)"
   ]
  },
  {
   "cell_type": "markdown",
   "metadata": {},
   "source": [
    "## From a large Romanian text"
   ]
  },
  {
   "cell_type": "code",
   "execution_count": 46,
   "metadata": {},
   "outputs": [
    {
     "name": "stdout",
     "output_type": "stream",
     "text": [
      "Bits Code           Value Symbol\n",
      "   4 0000               0 'u'\n",
      "   5 00010              2 ','\n",
      "   8 00011000          24 '!'\n",
      "  10 0001100100       100 'F'\n",
      "  10 0001100101       101 ':'\n",
      "   9 000110011         51 'U'\n",
      "   8 00011010          26 'E'\n",
      "   8 00011011          27 'D'\n",
      "  10 0001110000       112 'G'\n",
      "  11 00011100010      226 'k'\n",
      "  11 00011100011      227 '*'\n",
      "   9 000111001         57 'M'\n",
      "   8 00011101          29 'P'\n",
      "   7 0001111           15 'v'\n",
      "   3 001                1 'a'\n",
      "   4 0100               4 'n'\n",
      "   4 0101               5 'r'\n",
      "   5 01100             12 'd'\n",
      "   5 01101             13 'c'\n",
      "   5 01110             14 'o'\n",
      "   5 01111             15 's'\n",
      "   3 100                4 ' '\n",
      "   8 10100000         160 '.'\n",
      "   9 101000010        322 ';'\n",
      "  12 101000011000    2584 '1'\n",
      "  12 101000011001    2585 '3'\n",
      "  12 101000011010    2586 'Z'\n",
      "  13 1010000110110   5174 'x'\n",
      "  14 10100001101110 10350 _EOF\n",
      "  14 10100001101111 10351 '#'\n",
      "  10 1010000111       647 'j'\n",
      "   7 1010001           81 'C'\n",
      "   7 1010010           82 'b'\n",
      "   7 1010011           83 'f'\n",
      "   6 101010            42 'p'\n",
      "   7 1010110           86 'g'\n",
      "   9 101011100        348 'N'\n",
      "   9 101011101        349 'R'\n",
      "   8 10101111         175 'A'\n",
      "   5 10110             22 'l'\n",
      "   6 101110            46 '-'\n",
      "   9 101111000        376 'L'\n",
      "  10 1011110010       754 '?'\n",
      "  12 101111001100    3020 '\"'\n",
      "  14 10111100110100 12084 '0'\n",
      "  14 10111100110101 12085 '5'\n",
      "  13 1011110011011   6043 '2'\n",
      "  14 10111100111000 12088 '8'\n",
      "  14 10111100111001 12089 'H'\n",
      "  13 1011110011101   6045 'J'\n",
      "  14 10111100111100 12092 'K'\n",
      "  14 10111100111101 12093 'Y'\n",
      "  14 10111100111110 12094 '['\n",
      "  14 10111100111111 12095 ']'\n",
      "   8 10111101         189 'I'\n",
      "   8 10111110         190 'z'\n",
      "   8 10111111         191 'S'\n",
      "   4 1100              12 'i'\n",
      "   4 1101              13 'e'\n",
      "   4 1110              14 '\\n'\n",
      "   5 11110             30 't'\n",
      "   6 111110            62 'm'\n",
      "  11 11111100000     2016 'w'\n",
      "  11 11111100001     2017 'y'\n",
      "  10 1111110001      1009 'O'\n",
      "   9 111111001        505 'T'\n",
      "  10 1111110100      1012 'V'\n",
      "  10 1111110101      1013 'B'\n",
      "   9 111111011        507 'h'\n",
      "   7 1111111          127 '\\t'\n"
     ]
    }
   ],
   "source": [
    "# Read a file at once\n",
    "with open(\"data/textro.txt\", \"r\") as f:     # Romanian text\n",
    "    lines = f.readlines()\n",
    "contentRo = '\\n'.join(lines)\n",
    "codecRo = HuffmanCodec.from_data(contentRo)\n",
    "codecRo.print_code_table()\n"
   ]
  },
  {
   "cell_type": "code",
   "execution_count": 47,
   "metadata": {},
   "outputs": [
    {
     "name": "stdout",
     "output_type": "stream",
     "text": [
      "b'\\xbf6\\x0f\\x15\\xd1\\x8a'\n",
      "101111110011011000001111000101011101000110001010\n"
     ]
    }
   ],
   "source": [
    "enc = codecRo.encode(\"Salutare!\")\n",
    "print(enc)  # byte array\n",
    "\n",
    "# Convert to binary string for display\n",
    "enc_binarystr = ''.join([format(i, '08b') for i in enc])\n",
    "print(enc_binarystr)"
   ]
  },
  {
   "cell_type": "markdown",
   "metadata": {},
   "source": [
    "## Encoding strings\n",
    "\n",
    "Let'e encode:\n",
    "- the English text with the English code\n",
    "- the Romanian text with the Romanian code\n",
    "- the English text with the Romanian code\n",
    "- the Romanian text with the English code"
   ]
  },
  {
   "cell_type": "code",
   "execution_count": 52,
   "metadata": {},
   "outputs": [
    {
     "name": "stdout",
     "output_type": "stream",
     "text": [
      "English text with English codec: 9586 bytes\n",
      "Romanian text with Romanian codec: 7222 bytes\n"
     ]
    }
   ],
   "source": [
    "enen = codecEn.encode(contentEn)\n",
    "print(f\"English text with English codec: {len(enen)} bytes\")\n",
    "\n",
    "roro = codecRo.encode(contentRo)\n",
    "print(f\"Romanian text with Romanian codec: {len(roro)} bytes\")\n",
    "\n",
    "# enro = codecEn.encode(contentRo)\n",
    "# print(f\"Romanian text with English codec: {len(enro)} bytes\")\n",
    "\n",
    "# roen = codecRo.encode(contentEn)\n",
    "# print(f\"English text with Romanian codec: {len(roen)} bytes\")\n",
    "\n"
   ]
  }
 ],
 "metadata": {
  "kernelspec": {
   "display_name": "Python 3",
   "language": "python",
   "name": "python3"
  },
  "language_info": {
   "codemirror_mode": {
    "name": "ipython",
    "version": 3
   },
   "file_extension": ".py",
   "mimetype": "text/x-python",
   "name": "python",
   "nbconvert_exporter": "python",
   "pygments_lexer": "ipython3",
   "version": "3.9.13"
  }
 },
 "nbformat": 4,
 "nbformat_minor": 2
}
