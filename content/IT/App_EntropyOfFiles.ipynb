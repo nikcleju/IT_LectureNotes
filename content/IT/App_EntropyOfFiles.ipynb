{
 "cells": [
  {
   "cell_type": "markdown",
   "metadata": {},
   "source": [
    "# Computing entropy of files\n",
    "\n",
    "## Introduction\n",
    "\n",
    "In this application we treat a file like a sequence of **bytes** generated\n",
    "by a Discrete Memoryless Source (DMS). \n",
    "\n",
    "We estimate the entropy of the file by computing the empirical frequency of each byte,\n",
    "and then using the formula for the entropy of a DMS.\n",
    "\n",
    "$$\n",
    "H(X) = - \\sum_{i=0}^{255} p_i \\log_2(p_i)\n",
    "$$\n",
    "\n",
    "where $p_i$ is the frequency of the byte $i$ in the file."
   ]
  },
  {
   "cell_type": "markdown",
   "metadata": {},
   "source": [
    "## Walkthrough"
   ]
  },
  {
   "cell_type": "markdown",
   "metadata": {},
   "source": [
    "We estimate the frequency of every byte by counting.\n",
    "\n",
    "First, let's open a file and read its content, incrementing\n",
    "a counter for each byte.\n",
    "We're going to use the `read_bytes()` metod available in Pathlib package."
   ]
  },
  {
   "cell_type": "code",
   "execution_count": 1,
   "metadata": {},
   "outputs": [],
   "source": [
    "import pathlib\n",
    "\n",
    "filename = \"data/texten.txt\"\n",
    "\n",
    "# Prepare counters\n",
    "counts = [0] * 256\n",
    "\n",
    "for byte in pathlib.Path(filename).read_bytes():\n",
    "    counts[byte] += 1"
   ]
  },
  {
   "cell_type": "markdown",
   "metadata": {},
   "source": [
    "Now, let's print some statistics about the counters:"
   ]
  },
  {
   "cell_type": "code",
   "execution_count": 2,
   "metadata": {},
   "outputs": [
    {
     "name": "stdout",
     "output_type": "stream",
     "text": [
      "Total bytes = 16793\n",
      "      Code       Char      Count\n",
      "        65          A        147\n",
      "        66          B         88\n",
      "        67          C         57\n",
      "        68          D         63\n",
      "        69          E        110\n",
      "        70          F         29\n",
      "        71          G         58\n",
      "        72          H         45\n",
      "        73          I        228\n",
      "        74          J          3\n",
      "        75          K          5\n",
      "        76          L         54\n",
      "        77          M         44\n",
      "        78          N         59\n",
      "        79          O        190\n",
      "        80          P         19\n",
      "        81          Q          0\n",
      "        82          R        111\n",
      "        83          S         70\n",
      "        84          T        128\n",
      "        85          U         12\n",
      "        86          V         13\n",
      "        87          W         48\n",
      "        88          X          1\n",
      "        89          Y         22\n",
      "        90          Z          2\n",
      "        97          a        697\n",
      "        98          b        127\n",
      "        99          c        202\n",
      "       100          d        360\n",
      "       101          e       1164\n",
      "       102          f        211\n",
      "       103          g        181\n",
      "       104          h        632\n",
      "       105          i        615\n",
      "       106          j          7\n",
      "       107          k         75\n",
      "       108          l        355\n",
      "       109          m        262\n",
      "       110          n        624\n",
      "       111          o        863\n",
      "       112          p        134\n",
      "       113          q          7\n",
      "       114          r        613\n",
      "       115          s        653\n",
      "       116          t        827\n",
      "       117          u        363\n",
      "       118          v        117\n",
      "       119          w        189\n",
      "       120          x          8\n",
      "       121          y        237\n",
      "       122          z          3\n",
      "       170          ª          0\n",
      "       181          µ          0\n",
      "       186          º          0\n",
      "       192          À          0\n",
      "       193          Á          0\n",
      "       194          Â          0\n",
      "       195          Ã          0\n",
      "       196          Ä          0\n",
      "       197          Å          0\n",
      "       198          Æ          0\n",
      "       199          Ç          0\n",
      "       200          È          0\n",
      "       201          É          0\n",
      "       202          Ê          0\n",
      "       203          Ë          0\n",
      "       204          Ì          0\n",
      "       205          Í          0\n",
      "       206          Î          0\n",
      "       207          Ï          0\n",
      "       208          Ð          0\n",
      "       209          Ñ          0\n",
      "       210          Ò          0\n",
      "       211          Ó          0\n",
      "       212          Ô          0\n",
      "       213          Õ          0\n",
      "       214          Ö          0\n",
      "       216          Ø          0\n",
      "       217          Ù          0\n",
      "       218          Ú          0\n",
      "       219          Û          0\n",
      "       220          Ü          0\n",
      "       221          Ý          0\n",
      "       222          Þ          0\n",
      "       223          ß          0\n",
      "       224          à          0\n",
      "       225          á          0\n",
      "       226          â          0\n",
      "       227          ã          0\n",
      "       228          ä          0\n",
      "       229          å          0\n",
      "       230          æ          0\n",
      "       231          ç          0\n",
      "       232          è          0\n",
      "       233          é          0\n",
      "       234          ê          0\n",
      "       235          ë          0\n",
      "       236          ì          0\n",
      "       237          í          0\n",
      "       238          î          0\n",
      "       239          ï          0\n",
      "       240          ð          0\n",
      "       241          ñ          0\n",
      "       242          ò          0\n",
      "       243          ó          0\n",
      "       244          ô          0\n",
      "       245          õ          0\n",
      "       246          ö          0\n",
      "       248          ø          0\n",
      "       249          ù          0\n",
      "       250          ú          0\n",
      "       251          û          0\n",
      "       252          ü          0\n",
      "       253          ý          0\n",
      "       254          þ          0\n",
      "       255          ÿ          0\n"
     ]
    }
   ],
   "source": [
    "\n",
    "print(f\"Total bytes = {sum(counts)}\")\n",
    "\n",
    "print(f\"{'Code':>10} {'Char':>10} {'Count':>10}\")\n",
    "for i, count in enumerate(counts):\n",
    "    if chr(i).isalpha():\n",
    "        print(f\"{i:>10d} {i:>10c} {count:>10d}\")\n"
   ]
  },
  {
   "cell_type": "markdown",
   "metadata": {},
   "source": [
    "Let's print a histogram of the letter counters."
   ]
  },
  {
   "cell_type": "code",
   "execution_count": 3,
   "metadata": {},
   "outputs": [
    {
     "data": {
      "image/png": "[encoded data removed]",
      "text/plain": [
       "<Figure size 640x480 with 1 Axes>"
      ]
     },
     "metadata": {},
     "output_type": "display_data"
    }
   ],
   "source": [
    "import matplotlib.pyplot as plt\n",
    "\n",
    "chars_hist = [chr(i) for i in range(65, 122)]\n",
    "count_hist = [counts[i] for i in range(65, 122)]\n",
    "\n",
    "plt.bar(chars_hist, count_hist)\n",
    "plt.show()\n"
   ]
  },
  {
   "cell_type": "markdown",
   "metadata": {},
   "source": [
    "We obtain probabilities by dividing each counter to the total:"
   ]
  },
  {
   "cell_type": "code",
   "execution_count": 4,
   "metadata": {},
   "outputs": [
    {
     "name": "stdout",
     "output_type": "stream",
     "text": [
      "      Code       Char      Count       Prob\n",
      "        65         A       147            0.008754\n",
      "        66         B        88            0.005240\n",
      "        67         C        57            0.003394\n",
      "        68         D        63            0.003752\n",
      "        69         E       110            0.006550\n",
      "        70         F        29            0.001727\n",
      "        71         G        58            0.003454\n",
      "        72         H        45            0.002680\n",
      "        73         I       228            0.013577\n",
      "        74         J         3            0.000179\n",
      "        75         K         5            0.000298\n",
      "        76         L        54            0.003216\n",
      "        77         M        44            0.002620\n",
      "        78         N        59            0.003513\n",
      "        79         O       190            0.011314\n",
      "        80         P        19            0.001131\n",
      "        81         Q         0            0.000000\n",
      "        82         R       111            0.006610\n",
      "        83         S        70            0.004168\n",
      "        84         T       128            0.007622\n",
      "        85         U        12            0.000715\n",
      "        86         V        13            0.000774\n",
      "        87         W        48            0.002858\n",
      "        88         X         1            0.000060\n",
      "        89         Y        22            0.001310\n",
      "        90         Z         2            0.000119\n",
      "        97         a       697            0.041505\n",
      "        98         b       127            0.007563\n",
      "        99         c       202            0.012029\n",
      "       100         d       360            0.021438\n",
      "       101         e      1164            0.069315\n",
      "       102         f       211            0.012565\n",
      "       103         g       181            0.010778\n",
      "       104         h       632            0.037635\n",
      "       105         i       615            0.036622\n",
      "       106         j         7            0.000417\n",
      "       107         k        75            0.004466\n",
      "       108         l       355            0.021140\n",
      "       109         m       262            0.015602\n",
      "       110         n       624            0.037158\n",
      "       111         o       863            0.051390\n",
      "       112         p       134            0.007980\n",
      "       113         q         7            0.000417\n",
      "       114         r       613            0.036503\n",
      "       115         s       653            0.038885\n",
      "       116         t       827            0.049247\n",
      "       117         u       363            0.021616\n",
      "       118         v       117            0.006967\n",
      "       119         w       189            0.011255\n",
      "       120         x         8            0.000476\n",
      "       121         y       237            0.014113\n",
      "       122         z         3            0.000179\n",
      "       170         ª         0            0.000000\n",
      "       181         µ         0            0.000000\n",
      "       186         º         0            0.000000\n",
      "       192         À         0            0.000000\n",
      "       193         Á         0            0.000000\n",
      "       194         Â         0            0.000000\n",
      "       195         Ã         0            0.000000\n",
      "       196         Ä         0            0.000000\n",
      "       197         Å         0            0.000000\n",
      "       198         Æ         0            0.000000\n",
      "       199         Ç         0            0.000000\n",
      "       200         È         0            0.000000\n",
      "       201         É         0            0.000000\n",
      "       202         Ê         0            0.000000\n",
      "       203         Ë         0            0.000000\n",
      "       204         Ì         0            0.000000\n",
      "       205         Í         0            0.000000\n",
      "       206         Î         0            0.000000\n",
      "       207         Ï         0            0.000000\n",
      "       208         Ð         0            0.000000\n",
      "       209         Ñ         0            0.000000\n",
      "       210         Ò         0            0.000000\n",
      "       211         Ó         0            0.000000\n",
      "       212         Ô         0            0.000000\n",
      "       213         Õ         0            0.000000\n",
      "       214         Ö         0            0.000000\n",
      "       216         Ø         0            0.000000\n",
      "       217         Ù         0            0.000000\n",
      "       218         Ú         0            0.000000\n",
      "       219         Û         0            0.000000\n",
      "       220         Ü         0            0.000000\n",
      "       221         Ý         0            0.000000\n",
      "       222         Þ         0            0.000000\n",
      "       223         ß         0            0.000000\n",
      "       224         à         0            0.000000\n",
      "       225         á         0            0.000000\n",
      "       226         â         0            0.000000\n",
      "       227         ã         0            0.000000\n",
      "       228         ä         0            0.000000\n",
      "       229         å         0            0.000000\n",
      "       230         æ         0            0.000000\n",
      "       231         ç         0            0.000000\n",
      "       232         è         0            0.000000\n",
      "       233         é         0            0.000000\n",
      "       234         ê         0            0.000000\n",
      "       235         ë         0            0.000000\n",
      "       236         ì         0            0.000000\n",
      "       237         í         0            0.000000\n",
      "       238         î         0            0.000000\n",
      "       239         ï         0            0.000000\n",
      "       240         ð         0            0.000000\n",
      "       241         ñ         0            0.000000\n",
      "       242         ò         0            0.000000\n",
      "       243         ó         0            0.000000\n",
      "       244         ô         0            0.000000\n",
      "       245         õ         0            0.000000\n",
      "       246         ö         0            0.000000\n",
      "       248         ø         0            0.000000\n",
      "       249         ù         0            0.000000\n",
      "       250         ú         0            0.000000\n",
      "       251         û         0            0.000000\n",
      "       252         ü         0            0.000000\n",
      "       253         ý         0            0.000000\n",
      "       254         þ         0            0.000000\n",
      "       255         ÿ         0            0.000000\n"
     ]
    }
   ],
   "source": [
    "probs = [count / sum(counts) for count in counts]\n",
    "\n",
    "print(f\"{'Code':>10} {'Char':>10} {'Count':>10} {'Prob':>10}\")\n",
    "for i, (count, prob) in enumerate(zip(counts, probs)):\n",
    "    if chr(i).isalpha():\n",
    "        print(f\"{i:>10d}{i:>10c}{count:>10d}{prob:>20.6f}\")\n"
   ]
  },
  {
   "cell_type": "markdown",
   "metadata": {},
   "source": [
    "Finally, let's compute the entropy. We skip all frequencies equal to zero, since they don't contribute to the entropy."
   ]
  },
  {
   "cell_type": "code",
   "execution_count": 5,
   "metadata": {},
   "outputs": [
    {
     "name": "stdout",
     "output_type": "stream",
     "text": [
      "Entropy = 4.59 bits per byte\n"
     ]
    }
   ],
   "source": [
    "from math import log2\n",
    "\n",
    "entropy = sum([-p * log2(p) for p in probs if p > 0])\n",
    "print(f\"Entropy = {entropy:.2f} bits per byte\")"
   ]
  },
  {
   "cell_type": "markdown",
   "metadata": {},
   "source": [
    "## Function\n",
    "\n",
    "We will encapsulate the code in a function, so that we can reuse it conveniently"
   ]
  },
  {
   "cell_type": "code",
   "execution_count": 6,
   "metadata": {},
   "outputs": [],
   "source": [
    "def entropy_of_file(filename):\n",
    "    counts = [0] * 256\n",
    "    for byte in pathlib.Path(filename).read_bytes():\n",
    "        counts[byte] += 1\n",
    "    probs = [count / sum(counts) for count in counts]\n",
    "    return sum([-p * log2(p) for p in probs if p > 0])"
   ]
  },
  {
   "cell_type": "markdown",
   "metadata": {},
   "source": [
    "Now let's compute the entropy of various files:"
   ]
  },
  {
   "cell_type": "code",
   "execution_count": 17,
   "metadata": {},
   "outputs": [
    {
     "data": {
      "text/plain": [
       "4.587764553430704"
      ]
     },
     "execution_count": 17,
     "metadata": {},
     "output_type": "execute_result"
    }
   ],
   "source": [
    "entropy_of_file(\"data/texten.txt\")"
   ]
  },
  {
   "cell_type": "code",
   "execution_count": 18,
   "metadata": {},
   "outputs": [
    {
     "data": {
      "text/plain": [
       "4.628863509926092"
      ]
     },
     "execution_count": 18,
     "metadata": {},
     "output_type": "execute_result"
    }
   ],
   "source": [
    "entropy_of_file(\"data/textro.txt\")"
   ]
  },
  {
   "cell_type": "code",
   "execution_count": 19,
   "metadata": {},
   "outputs": [
    {
     "data": {
      "text/plain": [
       "7.96649855933222"
      ]
     },
     "execution_count": 19,
     "metadata": {},
     "output_type": "execute_result"
    }
   ],
   "source": [
    "entropy_of_file(\"data/Ceahlau.jpg\")"
   ]
  },
  {
   "cell_type": "code",
   "execution_count": 20,
   "metadata": {},
   "outputs": [
    {
     "data": {
      "text/plain": [
       "7.898282999757679"
      ]
     },
     "execution_count": 20,
     "metadata": {},
     "output_type": "execute_result"
    }
   ],
   "source": [
    "entropy_of_file(\"data/ChromeSetup.exe\")"
   ]
  }
 ],
 "metadata": {
  "kernelspec": {
   "display_name": "Python 3",
   "language": "python",
   "name": "python3"
  },
  "language_info": {
   "codemirror_mode": {
    "name": "ipython",
    "version": 3
   },
   "file_extension": ".py",
   "mimetype": "text/x-python",
   "name": "python",
   "nbconvert_exporter": "python",
   "pygments_lexer": "ipython3",
   "version": "3.11.7"
  }
 },
 "nbformat": 4,
 "nbformat_minor": 2
}
